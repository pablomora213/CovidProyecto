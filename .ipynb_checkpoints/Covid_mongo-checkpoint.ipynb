{
 "cells": [
  {
   "cell_type": "code",
   "execution_count": 1,
   "id": "9d738d70",
   "metadata": {},
   "outputs": [],
   "source": [
    "import pymongo\n",
    "import pandas as pd\n",
    "import numpy as np"
   ]
  },
  {
   "cell_type": "code",
   "execution_count": 2,
   "id": "2ba3bb50",
   "metadata": {},
   "outputs": [],
   "source": [
    "cliente=pymongo.MongoClient()"
   ]
  },
  {
   "cell_type": "code",
   "execution_count": 3,
   "id": "1a633c04",
   "metadata": {},
   "outputs": [],
   "source": [
    "#Cargo los CSVs\n",
    "alcohol= pd.read_csv(\"data/alcohol.csv\")\n",
    "deaths= pd.read_csv(\"data/all_weekly_excess_deaths.csv\")\n",
    "medallas= pd.read_csv(\"data/medallas.csv\")\n",
    "poblacion= pd.read_csv(\"data/poblacion.csv\")"
   ]
  },
  {
   "cell_type": "code",
   "execution_count": 4,
   "id": "53a69302",
   "metadata": {},
   "outputs": [],
   "source": [
    "#generamos la base de datos\n",
    "db=cliente.covid"
   ]
  },
  {
   "cell_type": "code",
   "execution_count": 5,
   "id": "5ba71e15",
   "metadata": {},
   "outputs": [],
   "source": [
    "#generaremos las tablas\n",
    "pob=db.poblacion"
   ]
  },
  {
   "cell_type": "code",
   "execution_count": 6,
   "id": "128d6c8e",
   "metadata": {},
   "outputs": [],
   "source": [
    "med=db.medallas"
   ]
  },
  {
   "cell_type": "code",
   "execution_count": 7,
   "id": "e13d48e6",
   "metadata": {},
   "outputs": [],
   "source": [
    "alc= db.alcohol"
   ]
  },
  {
   "cell_type": "code",
   "execution_count": 8,
   "id": "cb810b12",
   "metadata": {},
   "outputs": [],
   "source": [
    "dea=db.deaths"
   ]
  },
  {
   "cell_type": "code",
   "execution_count": 9,
   "id": "85ad6d48",
   "metadata": {},
   "outputs": [],
   "source": [
    "#con esto no se modificaran los datos de las tablas tras las queris, para poder restart el kernel\n",
    "pob.drop()\n",
    "med.drop()\n",
    "alc.drop()\n",
    "dea.drop()"
   ]
  },
  {
   "cell_type": "code",
   "execution_count": 10,
   "id": "1b34771d",
   "metadata": {},
   "outputs": [
    {
     "data": {
      "text/plain": [
       "[]"
      ]
     },
     "execution_count": 10,
     "metadata": {},
     "output_type": "execute_result"
    }
   ],
   "source": [
    "db.list_collection_names()"
   ]
  },
  {
   "cell_type": "code",
   "execution_count": 11,
   "id": "812f5af4",
   "metadata": {},
   "outputs": [],
   "source": [
    "#creamos diccionarios de los CSVs para poder meterlos en  mongo\n",
    "poblacion_dict = poblacion.to_dict(orient=\"records\")\n",
    "medallas_dict = medallas.to_dict(orient=\"records\")\n",
    "alcohol_dict = alcohol.to_dict(orient=\"records\")\n",
    "deaths_dict = deaths.to_dict(orient=\"records\")\n"
   ]
  },
  {
   "cell_type": "code",
   "execution_count": 12,
   "id": "5293aab5",
   "metadata": {},
   "outputs": [
    {
     "data": {
      "text/plain": [
       "<pymongo.results.InsertManyResult at 0x7ff06daa7880>"
      ]
     },
     "execution_count": 12,
     "metadata": {},
     "output_type": "execute_result"
    }
   ],
   "source": [
    "#insertamos lod diccionarios en en las colecciones creadas\n",
    "pob.insert_many(poblacion_dict)\n",
    "med.insert_many(medallas_dict)\n",
    "alc.insert_many(alcohol_dict)\n",
    "dea.insert_many(deaths_dict)"
   ]
  },
  {
   "cell_type": "code",
   "execution_count": null,
   "id": "2c8622ae",
   "metadata": {},
   "outputs": [],
   "source": []
  },
  {
   "cell_type": "code",
   "execution_count": null,
   "id": "61dc1b3f",
   "metadata": {},
   "outputs": [],
   "source": []
  },
  {
   "cell_type": "markdown",
   "id": "cc94e93b",
   "metadata": {},
   "source": [
    "### Empezamos con las querys"
   ]
  },
  {
   "cell_type": "code",
   "execution_count": 15,
   "id": "e26d90f5",
   "metadata": {},
   "outputs": [
    {
     "data": {
      "text/plain": [
       "[{'_id': ObjectId('620130819608caed0ca27857'),\n",
       "  'Country': 'Denmark',\n",
       "  'Region': 'Western Europe',\n",
       "  'Hemisphere': 'north',\n",
       "  'HappinessScore': 7.526,\n",
       "  'HDI': 928,\n",
       "  'GDP_PerCapita': 53.579,\n",
       "  'Beer_PerCapita': 224,\n",
       "  'Spirit_PerCapita': 81,\n",
       "  'Wine_PerCapita': 278},\n",
       " {'_id': ObjectId('620130819608caed0ca27858'),\n",
       "  'Country': 'Switzerland',\n",
       "  'Region': 'Western Europe',\n",
       "  'Hemisphere': 'north',\n",
       "  'HappinessScore': 7.509,\n",
       "  'HDI': 943,\n",
       "  'GDP_PerCapita': 79.866,\n",
       "  'Beer_PerCapita': 185,\n",
       "  'Spirit_PerCapita': 100,\n",
       "  'Wine_PerCapita': 280},\n",
       " {'_id': ObjectId('620130819608caed0ca27859'),\n",
       "  'Country': 'Iceland',\n",
       "  'Region': 'Western Europe',\n",
       "  'Hemisphere': 'north',\n",
       "  'HappinessScore': 7.501,\n",
       "  'HDI': 933,\n",
       "  'GDP_PerCapita': 60.53,\n",
       "  'Beer_PerCapita': 233,\n",
       "  'Spirit_PerCapita': 61,\n",
       "  'Wine_PerCapita': 78}]"
      ]
     },
     "execution_count": 15,
     "metadata": {},
     "output_type": "execute_result"
    }
   ],
   "source": [
    "list(alc.find().sort('HappinessScore', -1).limit(3))"
   ]
  },
  {
   "cell_type": "code",
   "execution_count": null,
   "id": "347f6baf",
   "metadata": {},
   "outputs": [],
   "source": []
  }
 ],
 "metadata": {
  "kernelspec": {
   "display_name": "ironhack",
   "language": "python",
   "name": "ironhack"
  },
  "language_info": {
   "codemirror_mode": {
    "name": "ipython",
    "version": 3
   },
   "file_extension": ".py",
   "mimetype": "text/x-python",
   "name": "python",
   "nbconvert_exporter": "python",
   "pygments_lexer": "ipython3",
   "version": "3.8.5"
  }
 },
 "nbformat": 4,
 "nbformat_minor": 5
}
